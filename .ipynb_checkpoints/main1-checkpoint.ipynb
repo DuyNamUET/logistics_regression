{
 "cells": [
  {
   "cell_type": "code",
   "execution_count": 1,
   "metadata": {},
   "outputs": [],
   "source": [
    "import numpy as np\n",
    "import pandas as pd\n",
    "import matplotlib.pyplot as plt"
   ]
  },
  {
   "cell_type": "code",
   "execution_count": 2,
   "metadata": {},
   "outputs": [],
   "source": [
    "# Normalize feature matrix X\n",
    "def normalize(X):\n",
    "    _min = np.min(X, axis=0)\n",
    "    _max = np.max(X, axis=0)\n",
    "    _range = _max - _min\n",
    "    norm_X = 1 - (maxs - X)/_range\n",
    "    return norm_X"
   ]
  },
  {
   "cell_type": "code",
   "execution_count": 3,
   "metadata": {},
   "outputs": [],
   "source": [
    "# Logistic(sigmoid) function\n",
    "def logistic_function(theta, X):\n",
    "    return 1.0/(1 + np.exp(-np.dot(X, theta.T)))"
   ]
  },
  {
   "cell_type": "code",
   "execution_count": 4,
   "metadata": {},
   "outputs": [],
   "source": [
    "# Logistic gradient function\n",
    "def logistic_gradient(theta, X, y):\n",
    "    first = logistic_function(theta, X) - y.reshape(X.shape[0], -1)\n",
    "    final = np.dot(first.T, X)\n",
    "    return final"
   ]
  },
  {
   "cell_type": "code",
   "execution_count": 5,
   "metadata": {},
   "outputs": [],
   "source": [
    "# Cost function\n",
    "def cost_function(theta, X, y):\n",
    "    log_func = logistic_function(theta, X)\n",
    "    y = np.squeeze(y)\n",
    "    step1 = y * np.log(log_func+0.0001)\n",
    "    step2 = (1 - y) * np.log(1.0001 - log_func)\n",
    "    final = - step1 - step2\n",
    "    return np.mean(final)"
   ]
  },
  {
   "cell_type": "code",
   "execution_count": 6,
   "metadata": {},
   "outputs": [],
   "source": [
    "# Gradient descent function\n",
    "def gradient_descent(theta, X, y, lr=0.3, converge_change=1e-4):\n",
    "    cost = cost_function(theta, X, y)\n",
    "    change_cost = 1\n",
    "    num_iter = 1\n",
    "\n",
    "    while(change_cost > converge_change):\n",
    "        old_cost = cost\n",
    "        theta = theta - (lr * logistic_gradient(theta, X, y))\n",
    "        cost = cost_function(theta, X, y)\n",
    "        change_cost = cost - old_cost\n",
    "        num_iter += 1\n",
    "    \n",
    "    return theta, num_iter"
   ]
  },
  {
   "cell_type": "code",
   "execution_count": 7,
   "metadata": {},
   "outputs": [],
   "source": [
    "# Predict function\n",
    "def predict_values(theta, X):\n",
    "    predict_prob = logistic_function(theta, X)\n",
    "    predict_value = np.where(predict_prob >= 0.5, 1, 0)\n",
    "    return np.squeeze(predict_value)"
   ]
  },
  {
   "cell_type": "code",
   "execution_count": 8,
   "metadata": {},
   "outputs": [],
   "source": [
    "# Load data from csv file\n",
    "df = pd.read_csv(\"mobile_price/train.csv\")"
   ]
  },
  {
   "cell_type": "code",
   "execution_count": 9,
   "metadata": {},
   "outputs": [],
   "source": [
    "X = df[df.columns[:12]].values  # Get 12 features for input\n",
    "Y = df['wifi'].values   # Get the last feature for output"
   ]
  },
  {
   "cell_type": "code",
   "execution_count": 10,
   "metadata": {},
   "outputs": [],
   "source": [
    "np.random.seed(1)\n",
    "p = np.random.permutation(len(X))"
   ]
  },
  {
   "cell_type": "code",
   "execution_count": 15,
   "metadata": {},
   "outputs": [],
   "source": [
    "# 60% train - 40% test\n",
    "alpha = 0.6\n",
    "x_train = X[p[:int(len(X)*alpha)]].copy()\n",
    "y_train = Y[p[:int(len(X)*alpha)]].copy()\n",
    "x_test = X[p[int(len(X)*alpha):]].copy()\n",
    "y_test = Y[p[int(len(X)*alpha):]].copy()"
   ]
  },
  {
   "cell_type": "code",
   "execution_count": 16,
   "metadata": {},
   "outputs": [],
   "source": [
    "# Initial beta values \n",
    "theta = np.matrix(np.zeros(x_train.shape[1]))"
   ]
  },
  {
   "cell_type": "code",
   "execution_count": 17,
   "metadata": {},
   "outputs": [
    {
     "name": "stderr",
     "output_type": "stream",
     "text": [
      "c:\\users\\duy nam\\anaconda3\\envs\\ml\\lib\\site-packages\\ipykernel_launcher.py:3: RuntimeWarning: overflow encountered in exp\n",
      "  This is separate from the ipykernel package so we can avoid doing imports until\n"
     ]
    }
   ],
   "source": [
    "theta, num_iter = gradient_descent(theta, x_train, y_train)"
   ]
  },
  {
   "cell_type": "code",
   "execution_count": null,
   "metadata": {},
   "outputs": [],
   "source": []
  }
 ],
 "metadata": {
  "kernelspec": {
   "display_name": "Python 3",
   "language": "python",
   "name": "python3"
  },
  "language_info": {
   "codemirror_mode": {
    "name": "ipython",
    "version": 3
   },
   "file_extension": ".py",
   "mimetype": "text/x-python",
   "name": "python",
   "nbconvert_exporter": "python",
   "pygments_lexer": "ipython3",
   "version": "3.6.8"
  }
 },
 "nbformat": 4,
 "nbformat_minor": 4
}
