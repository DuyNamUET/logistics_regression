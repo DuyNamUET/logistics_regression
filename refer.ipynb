{
 "cells": [
  {
   "cell_type": "code",
   "execution_count": 28,
   "metadata": {},
   "outputs": [],
   "source": [
    "from sklearn.linear_model import RidgeClassifier\n",
    "import numpy as np\n",
    "import pandas as pd"
   ]
  },
  {
   "cell_type": "code",
   "execution_count": 29,
   "metadata": {},
   "outputs": [],
   "source": [
    "def normalize(X):\n",
    "    _min = np.min(X, axis=0)\n",
    "    _max = np.max(X, axis=0)\n",
    "    _range = _max - _min\n",
    "    norm_X = 1 - (_max - X)/_range\n",
    "    return norm_X"
   ]
  },
  {
   "cell_type": "code",
   "execution_count": 30,
   "metadata": {},
   "outputs": [
    {
     "data": {
      "text/plain": [
       "(2000, 21)"
      ]
     },
     "execution_count": 30,
     "metadata": {},
     "output_type": "execute_result"
    }
   ],
   "source": [
    "df = pd.read_csv('mobile_price/train.csv')\n",
    "df.shape"
   ]
  },
  {
   "cell_type": "code",
   "execution_count": 31,
   "metadata": {},
   "outputs": [],
   "source": [
    "ridge = RidgeClassifier()"
   ]
  },
  {
   "cell_type": "code",
   "execution_count": 32,
   "metadata": {},
   "outputs": [],
   "source": [
    "X = df[df.columns[:11]].values"
   ]
  },
  {
   "cell_type": "code",
   "execution_count": 33,
   "metadata": {},
   "outputs": [
    {
     "data": {
      "text/plain": [
       "array([[0.22778891, 0.        , 0.68      , ..., 0.9       , 0.14285714,\n",
       "        0.1       ],\n",
       "       [0.34736139, 1.        , 0.        , ..., 0.46666667, 0.28571429,\n",
       "        0.3       ],\n",
       "       [0.04141617, 1.        , 0.        , ..., 0.54166667, 0.57142857,\n",
       "        0.3       ],\n",
       "       ...,\n",
       "       [0.94188377, 0.        , 0.16      , ..., 0.23333333, 1.        ,\n",
       "        0.15      ],\n",
       "       [0.6753507 , 0.        , 0.16      , ..., 0.54166667, 0.57142857,\n",
       "        0.25      ],\n",
       "       [0.00601202, 1.        , 0.6       , ..., 0.73333333, 0.71428571,\n",
       "        0.8       ]])"
      ]
     },
     "execution_count": 33,
     "metadata": {},
     "output_type": "execute_result"
    }
   ],
   "source": [
    "X = normalize(X)\n",
    "X"
   ]
  },
  {
   "cell_type": "code",
   "execution_count": 34,
   "metadata": {},
   "outputs": [],
   "source": [
    "Y = df[df.columns[-1]].values"
   ]
  },
  {
   "cell_type": "code",
   "execution_count": 35,
   "metadata": {},
   "outputs": [],
   "source": [
    "np.random.seed(1)\n",
    "p = np.random.permutation(len(X))"
   ]
  },
  {
   "cell_type": "code",
   "execution_count": 52,
   "metadata": {},
   "outputs": [],
   "source": [
    "x_train = X[p[:int(len(X)*0.65)]].copy()\n",
    "y_train = Y[p[:int(len(X)*0.65)]].copy()"
   ]
  },
  {
   "cell_type": "code",
   "execution_count": 53,
   "metadata": {},
   "outputs": [],
   "source": [
    "x_test = X[p[int(len(X)*0.65):]].copy()\n",
    "y_test = Y[p[int(len(X)*0.65):]].copy()"
   ]
  },
  {
   "cell_type": "code",
   "execution_count": 54,
   "metadata": {},
   "outputs": [
    {
     "data": {
      "text/plain": [
       "RidgeClassifier()"
      ]
     },
     "execution_count": 54,
     "metadata": {},
     "output_type": "execute_result"
    }
   ],
   "source": [
    "ridge.fit(x_train, y_train)"
   ]
  },
  {
   "cell_type": "code",
   "execution_count": 55,
   "metadata": {},
   "outputs": [],
   "source": [
    "y_predict = ridge.predict(x_test)"
   ]
  },
  {
   "cell_type": "code",
   "execution_count": 57,
   "metadata": {},
   "outputs": [
    {
     "name": "stdout",
     "output_type": "stream",
     "text": [
      "True predict = 505/700\n",
      "Logistic Regression model accuracy: 72.14%\n"
     ]
    }
   ],
   "source": [
    "num_correct = len(y_predict[y_predict!=y_test])\n",
    "num_total = len(y_predict)\n",
    "print(\"True predict = {}/{}\".format(num_correct, num_total))\n",
    "print(\"Logistic Regression model accuracy: {}%\".format(round(100*num_correct/num_total, 2)))"
   ]
  },
  {
   "cell_type": "code",
   "execution_count": null,
   "metadata": {},
   "outputs": [],
   "source": []
  }
 ],
 "metadata": {
  "kernelspec": {
   "display_name": "Python 3",
   "language": "python",
   "name": "python3"
  },
  "language_info": {
   "codemirror_mode": {
    "name": "ipython",
    "version": 3
   },
   "file_extension": ".py",
   "mimetype": "text/x-python",
   "name": "python",
   "nbconvert_exporter": "python",
   "pygments_lexer": "ipython3",
   "version": "3.6.8"
  }
 },
 "nbformat": 4,
 "nbformat_minor": 4
}
