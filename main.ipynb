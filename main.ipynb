{
 "cells": [
  {
   "cell_type": "code",
   "execution_count": 1,
   "metadata": {},
   "outputs": [],
   "source": [
    "from sklearn.linear_model import LogisticRegression\n",
    "import numpy as np\n",
    "import pandas as pd"
   ]
  },
  {
   "cell_type": "code",
   "execution_count": 2,
   "metadata": {},
   "outputs": [],
   "source": [
    "def normalize(X):\n",
    "    _min = np.min(X, axis=0)\n",
    "    _max = np.max(X, axis=0)\n",
    "    _range = _max - _min\n",
    "    norm_X = 1 - (_max - X)/_range\n",
    "    return norm_X"
   ]
  },
  {
   "cell_type": "code",
   "execution_count": 3,
   "metadata": {},
   "outputs": [
    {
     "data": {
      "text/plain": [
       "(2000, 21)"
      ]
     },
     "execution_count": 3,
     "metadata": {},
     "output_type": "execute_result"
    }
   ],
   "source": [
    "df = pd.read_csv('mobile_price/train.csv')\n",
    "df.shape"
   ]
  },
  {
   "cell_type": "code",
   "execution_count": 4,
   "metadata": {},
   "outputs": [
    {
     "data": {
      "text/plain": [
       "Index(['battery_power', 'blue', 'clock_speed', 'dual_sim', 'fc', 'four_g',\n",
       "       'int_memory', 'm_dep', 'mobile_wt', 'n_cores', 'pc', 'px_height',\n",
       "       'px_width', 'ram', 'sc_h', 'sc_w', 'talk_time', 'three_g',\n",
       "       'touch_screen', 'wifi', 'price_range'],\n",
       "      dtype='object')"
      ]
     },
     "execution_count": 4,
     "metadata": {},
     "output_type": "execute_result"
    }
   ],
   "source": [
    "df.columns"
   ]
  },
  {
   "cell_type": "code",
   "execution_count": 5,
   "metadata": {},
   "outputs": [],
   "source": [
    "logisticReg = LogisticRegression(tol=0.05, max_iter=10000, multi_class='multinomial')"
   ]
  },
  {
   "cell_type": "code",
   "execution_count": 6,
   "metadata": {},
   "outputs": [],
   "source": [
    "X = df[df.columns[:11]].values"
   ]
  },
  {
   "cell_type": "code",
   "execution_count": 7,
   "metadata": {},
   "outputs": [
    {
     "data": {
      "text/plain": [
       "array([[0.22778891, 0.        , 0.68      , ..., 0.9       , 0.14285714,\n",
       "        0.1       ],\n",
       "       [0.34736139, 1.        , 0.        , ..., 0.46666667, 0.28571429,\n",
       "        0.3       ],\n",
       "       [0.04141617, 1.        , 0.        , ..., 0.54166667, 0.57142857,\n",
       "        0.3       ],\n",
       "       ...,\n",
       "       [0.94188377, 0.        , 0.16      , ..., 0.23333333, 1.        ,\n",
       "        0.15      ],\n",
       "       [0.6753507 , 0.        , 0.16      , ..., 0.54166667, 0.57142857,\n",
       "        0.25      ],\n",
       "       [0.00601202, 1.        , 0.6       , ..., 0.73333333, 0.71428571,\n",
       "        0.8       ]])"
      ]
     },
     "execution_count": 7,
     "metadata": {},
     "output_type": "execute_result"
    }
   ],
   "source": [
    "X = normalize(X)\n",
    "X"
   ]
  },
  {
   "cell_type": "code",
   "execution_count": 8,
   "metadata": {},
   "outputs": [],
   "source": [
    "Y = df[df.columns[-1]].values"
   ]
  },
  {
   "cell_type": "code",
   "execution_count": 9,
   "metadata": {},
   "outputs": [],
   "source": [
    "np.random.seed(1)\n",
    "p = np.random.permutation(len(X))"
   ]
  },
  {
   "cell_type": "code",
   "execution_count": 10,
   "metadata": {},
   "outputs": [],
   "source": [
    "x_train = X[p[:int(len(X)*0.65)]].copy()\n",
    "y_train = Y[p[:int(len(X)*0.65)]].copy()"
   ]
  },
  {
   "cell_type": "code",
   "execution_count": 11,
   "metadata": {},
   "outputs": [],
   "source": [
    "x_test = X[p[int(len(X)*0.65):]].copy()\n",
    "y_test = Y[p[int(len(X)*0.65):]].copy()"
   ]
  },
  {
   "cell_type": "code",
   "execution_count": 12,
   "metadata": {},
   "outputs": [
    {
     "data": {
      "text/plain": [
       "LogisticRegression(max_iter=10000, multi_class='multinomial', tol=0.05)"
      ]
     },
     "execution_count": 12,
     "metadata": {},
     "output_type": "execute_result"
    }
   ],
   "source": [
    "logisticReg.fit(x_train, y_train)"
   ]
  },
  {
   "cell_type": "code",
   "execution_count": 13,
   "metadata": {},
   "outputs": [],
   "source": [
    "y_predict = logisticReg.predict(x_test)"
   ]
  },
  {
   "cell_type": "code",
   "execution_count": 14,
   "metadata": {},
   "outputs": [
    {
     "name": "stdout",
     "output_type": "stream",
     "text": [
      "True predict = 512/700\n",
      "Logistic Regression model accuracy: 73.14%\n"
     ]
    }
   ],
   "source": [
    "num_correct = len(y_predict[y_predict!=y_test])\n",
    "num_total = len(y_predict)\n",
    "print(\"True predict = {}/{}\".format(num_correct, num_total))\n",
    "print(\"Logistic Regression model accuracy: {}%\".format(round(100*num_correct/num_total, 2)))"
   ]
  },
  {
   "cell_type": "code",
   "execution_count": 15,
   "metadata": {},
   "outputs": [],
   "source": [
    "def f1_statistic(Y_truth, Y_predict):\n",
    "    Y_set = list(set(Y_truth))\n",
    "    length = len(Y_set)\n",
    "#     print(length)\n",
    "    f1 = np.zeros([length, length])\n",
    "#     print(f1.size)\n",
    "    for i in range(len(Y_truth)):\n",
    "        f1[Y_predict[i], Y_truth[i]] += 1\n",
    "    return f1"
   ]
  },
  {
   "cell_type": "code",
   "execution_count": 16,
   "metadata": {},
   "outputs": [],
   "source": [
    "def f1_value(f1):\n",
    "    score = []\n",
    "    for i in range(f1.shape[0]):\n",
    "        pt_at = f1[i,i]                             # predict: true - actual: true\n",
    "        pt_af = np.sum(f1,axis=1)[i] - pt_at        # predict: true - actual: false\n",
    "        pf_at = np.sum(f1,axis=0)[i] - pt_at        # predict: false - actual: true\n",
    "        pf_af = np.sum(f1) - (pt_at+pt_af+pf_at)    # predict: false - actual: false\n",
    "        \n",
    "        precision = 100*pt_at/(pt_at+pt_af) # %\n",
    "        recall = 100*pt_at/(pt_at+pf_at)    # %\n",
    "        f1_score = 2*precision*recall/(precision+recall)    # %\n",
    "        score.append([precision, recall, f1_score])\n",
    "    return np.array(score)"
   ]
  },
  {
   "cell_type": "code",
   "execution_count": 17,
   "metadata": {},
   "outputs": [
    {
     "data": {
      "text/plain": [
       "array([[26.03550296, 23.28042328, 24.58100559],\n",
       "       [26.53061224, 14.20765027, 18.50533808],\n",
       "       [20.85561497, 25.16129032, 22.80701754],\n",
       "       [32.11382114, 45.66473988, 37.70883055]])"
      ]
     },
     "execution_count": 17,
     "metadata": {},
     "output_type": "execute_result"
    }
   ],
   "source": [
    "f1_value(f1_statistic(y_test, y_predict))"
   ]
  },
  {
   "cell_type": "code",
   "execution_count": null,
   "metadata": {},
   "outputs": [],
   "source": []
  }
 ],
 "metadata": {
  "kernelspec": {
   "display_name": "Python 3",
   "language": "python",
   "name": "python3"
  },
  "language_info": {
   "codemirror_mode": {
    "name": "ipython",
    "version": 3
   },
   "file_extension": ".py",
   "mimetype": "text/x-python",
   "name": "python",
   "nbconvert_exporter": "python",
   "pygments_lexer": "ipython3",
   "version": "3.6.8"
  }
 },
 "nbformat": 4,
 "nbformat_minor": 4
}
